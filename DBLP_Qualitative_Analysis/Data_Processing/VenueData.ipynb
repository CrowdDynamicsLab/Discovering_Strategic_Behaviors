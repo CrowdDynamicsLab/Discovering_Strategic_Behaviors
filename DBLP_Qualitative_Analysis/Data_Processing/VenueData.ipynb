{
 "cells": [
  {
   "cell_type": "code",
   "execution_count": null,
   "metadata": {},
   "outputs": [],
   "source": [
    "import pickle\n",
    "import numpy as np\n",
    "from collections import defaultdict\n",
    "\n",
    "from Venue import *\n",
    "from Content import *"
   ]
  },
  {
   "cell_type": "markdown",
   "metadata": {},
   "source": [
    "## Create Venues"
   ]
  },
  {
   "cell_type": "code",
   "execution_count": null,
   "metadata": {},
   "outputs": [],
   "source": [
    "venue_id = pickle.load(open('venue/venue_id.pkl', 'rb'))\n",
    "venue_pool = pickle.load(open('venue/venue_pool.pkl', 'rb'))\n",
    "\n",
    "id_venue, removes = {}, set()\n",
    "for venue, vid in venue_id.items():\n",
    "    if vid in venue_pool:\n",
    "        id_venue[vid] = venue\n",
    "    else:\n",
    "        removes.add(venue)\n",
    "        \n",
    "for venue in removes:\n",
    "    del venue_id[venue]\n",
    "    \n",
    "pickle.dump(venue_id, open('venue/venue_id.pkl', 'wb'), -1)\n",
    "pickle.dump(id_venue, open('venue/id_venue.pkl', 'wb'), -1)\n",
    "print(len(venue_pool), len(id_venue), len(venue_id))"
   ]
  },
  {
   "cell_type": "code",
   "execution_count": null,
   "metadata": {},
   "outputs": [],
   "source": [
    "start_year, end_year = 1980, 2019\n",
    "content_authors = pickle.load(open('content/content_authors.pkl','rb'))\n",
    "\n",
    "venues = {}\n",
    "for year in range(start_year, end_year):\n",
    "    contents = pickle.load(open('content/contents_{}.pkl'.format(year),'rb'))        \n",
    "    for content in contents.values():\n",
    "        \n",
    "        if content.venue not in venues:\n",
    "            data = {'id':content.venue, 'name':id_venue[content.venue]}\n",
    "            venues[content.venue] = Venue(data)\n",
    "            \n",
    "        venues[content.venue].update_contents(year, content.id, content.field, content_authors[content.id])\n",
    "        \n",
    "    print(f'Venue done for year {year}')\n",
    "    \n",
    "for venue in venues.values():\n",
    "    venue.update_authors()\n",
    "    venue.update_fields()\n",
    "\n",
    "pickle.dump(venues, open('venue/venues.pkl', 'wb'), -1)\n",
    "print(len(venues))"
   ]
  },
  {
   "cell_type": "code",
   "execution_count": null,
   "metadata": {},
   "outputs": [],
   "source": [
    "venues = pickle.load(open('venue/venues.pkl','rb'))\n",
    "venue_cumcounts, venue_fields = defaultdict(np.int64), defaultdict(dict)\n",
    "\n",
    "for venue in venues.values():\n",
    "    for year, field in venue.fields.items():\n",
    "        venue_fields[venue.id][year] = field/np.linalg.norm(field,2)\n",
    "    first_year = max(1999, min(venue.contents.keys()))\n",
    "    for year in range(first_year,2019):\n",
    "        venue_cumcounts[year] += 1\n",
    "        \n",
    "pickle.dump(venue_cumcounts, open('venue/venue_cumcounts.pkl', 'wb'), -1)\n",
    "pickle.dump(venue_fields, open('venue/venue_fields.pkl', 'wb'), -1)"
   ]
  },
  {
   "cell_type": "markdown",
   "metadata": {},
   "source": [
    "## Embeddings"
   ]
  },
  {
   "cell_type": "code",
   "execution_count": null,
   "metadata": {},
   "outputs": [],
   "source": [
    "u_embs = pickle.load(open('venue/v_embs.pkl','rb'))\n",
    "venues = pickle.load(open('venue/venues.pkl','rb'))\n",
    "\n",
    "update_counts = 0\n",
    "for venue in venues.values():        \n",
    "    for year in venue.contents.keys():\n",
    "        venue.update_embeddings(year, u_embs[venue.id+str(year)])\n",
    "        update_counts += 1\n",
    "    \n",
    "pickle.dump(venues, open('venue/venues.pkl', 'wb'), -1)\n",
    "print('Count check: {} vs {}'.format(len(u_embs), update_counts))"
   ]
  }
 ],
 "metadata": {
  "kernelspec": {
   "display_name": "Python 3",
   "language": "python",
   "name": "python3"
  },
  "language_info": {
   "codemirror_mode": {
    "name": "ipython",
    "version": 3
   },
   "file_extension": ".py",
   "mimetype": "text/x-python",
   "name": "python",
   "nbconvert_exporter": "python",
   "pygments_lexer": "ipython3",
   "version": "3.6.8"
  }
 },
 "nbformat": 4,
 "nbformat_minor": 2
}
