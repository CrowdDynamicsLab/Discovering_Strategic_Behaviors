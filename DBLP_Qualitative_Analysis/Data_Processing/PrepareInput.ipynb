{
 "cells": [
  {
   "cell_type": "code",
   "execution_count": null,
   "metadata": {},
   "outputs": [],
   "source": [
    "import pickle\n",
    "import numpy as np\n",
    "from collections import defaultdict\n",
    "\n",
    "from Author import *\n",
    "from Content import *"
   ]
  },
  {
   "cell_type": "markdown",
   "metadata": {},
   "source": [
    "## Content Input"
   ]
  },
  {
   "cell_type": "code",
   "execution_count": null,
   "metadata": {},
   "outputs": [],
   "source": [
    "c_actives = defaultdict(list)\n",
    "c_positions = defaultdict(dict)\n",
    "ca_adjs = defaultdict(dict)\n",
    "c_embeddings = defaultdict(dict)\n",
    "c_cite_edgellhs = defaultdict(dict)\n",
    "c_pub_edgellhs = defaultdict(dict)"
   ]
  },
  {
   "cell_type": "code",
   "execution_count": null,
   "metadata": {},
   "outputs": [],
   "source": [
    "for year in range(2000, 2019):\n",
    "    \n",
    "    print('Read year {}'.format(year))\n",
    "    contents =  pickle.load(open('content/contents_{}.pkl'.format(year),'rb'))\n",
    "    \n",
    "    print('Start collection on year {}'.format(year))\n",
    "    for content in contents.values():\n",
    "        if len(content.outcitations)>0:\n",
    "            c_actives[year].append(content.id)\n",
    "            ca_adjs[year][content.id] = [author_id for author_id,_,_ in content.authors]\n",
    "            c_embeddings[year][content.id] = content.embedding\n",
    "            c_cite_edgellhs[year][content.id] = content.cite_edgellhs\n",
    "            c_pub_edgellhs[year][content.id] = content.pub_edgellhs\n",
    "        \n",
    "    del contents\n",
    "    print('Finish collection on year {}'.format(year))\n",
    "    print()"
   ]
  },
  {
   "cell_type": "code",
   "execution_count": null,
   "metadata": {},
   "outputs": [],
   "source": [
    "for year in range(2000, 2019):    \n",
    "    \n",
    "    c_actives[year] = np.sort(c_actives[year])\n",
    "    c_positions[year] = dict((c,i) for i,c in enumerate(c_actives[year]))\n",
    "    ca_adjs[year] = np.array([[k,v] for k in c_actives[year] for v in np.sort(ca_adjs[year][k])]).T\n",
    "    c_embeddings[year] = np.array([c_embeddings[year][c_id] for c_id in c_actives[year]])\n",
    "    c_cite_edgellhs[year] = [c_cite_edgellhs[year][c_id] for c_id in c_actives[year]]\n",
    "    c_pub_edgellhs[year] = [c_pub_edgellhs[year][c_id] for c_id in c_actives[year]]\n",
    "    \n",
    "    pickle.dump((c_actives[year], c_positions[year], ca_adjs[year], c_embeddings[year], c_cite_edgellhs[year]), open(f'cite_input/c_cite_inputs_{year}','wb'), -1)\n",
    "    pickle.dump((c_actives[year], c_positions[year], ca_adjs[year], c_embeddings[year], c_pub_edgellhs[year]), open(f'pub_input/c_pub_inputs_{year}','wb'), -1)\n",
    "    \n",
    "    print(f'Finish year {year} node size {len(c_actives[year])} edge size {len(ca_adjs[year][0])}')\n",
    "    \n",
    "pickle.dump(c_actives, open('content/c_actives.pkl','wb'),-1)\n",
    "pickle.dump(ca_adjs, open('content/active_ca_adjs.pkl','wb'),-1)"
   ]
  },
  {
   "cell_type": "markdown",
   "metadata": {},
   "source": [
    "## Author Input"
   ]
  },
  {
   "cell_type": "code",
   "execution_count": null,
   "metadata": {},
   "outputs": [],
   "source": [
    "group_names = [2000, 2013, 201700, 201701, 201800, 201801, \n",
    "               201900, 201901, 201902, 201903, 201904, 201905, \n",
    "               201906, 201907, 201908, 201909, 201910, 201911, \n",
    "               201912, 201913, 201914]"
   ]
  },
  {
   "cell_type": "code",
   "execution_count": null,
   "metadata": {},
   "outputs": [],
   "source": [
    "name_id = defaultdict(list)\n",
    "id_name = {}\n",
    "\n",
    "a_actives = defaultdict(list)\n",
    "a_positions = defaultdict(dict)\n",
    "ac_adjs = defaultdict(dict)\n",
    "a_embeddings = defaultdict(dict)\n",
    "a_cite_edgellhs = defaultdict(dict)\n",
    "a_pub_edgellhs = defaultdict(dict)\n",
    "\n",
    "a_latest_cite_dists = {}\n",
    "a_latest_pub_dists = {}\n",
    "a_latest_embeddings = defaultdict(dict)"
   ]
  },
  {
   "cell_type": "code",
   "execution_count": null,
   "metadata": {
    "scrolled": true
   },
   "outputs": [],
   "source": [
    "np.random.seed(1)\n",
    "c_actives = pickle.load(open('content/c_actives.pkl','rb'))\n",
    "\n",
    "for group_name in group_names[1:]:    \n",
    "    print('Reading group {}'.format(group_name))\n",
    "    authors = pickle.load(open('author/authors_{}.pkl'.format(group_name),'rb'))\n",
    "    \n",
    "    print('Start collection for group {}'.format(group_name))\n",
    "    for author in authors.values():\n",
    "        \n",
    "        name_id[author.name].append(author.id)\n",
    "        id_name[author.id] = author.name\n",
    "        a_latest_cite_dists[author.id] = np.random.dirichlet([1]*16)\n",
    "        a_latest_pub_dists[author.id] = np.random.dirichlet([1]*8)\n",
    "        \n",
    "        latest_embedding = np.zeros(50)\n",
    "        for year in sorted(author.outcitations):\n",
    "            if year<2000: continue\n",
    "                \n",
    "            a_actives[year].append(author.id)            \n",
    "            ac_adjs[year][author.id] = [content for content in author.contents[year] if content in c_actives[year]]\n",
    "            a_embeddings[year][author.id] = author.embeddings[year]  \n",
    "            a_cite_edgellhs[year][author.id] = author.cite_edgellhs[year]\n",
    "            a_pub_edgellhs[year][author.id] = author.pub_edgellhs[year]\n",
    "            \n",
    "            a_latest_embeddings[year][author.id] = latest_embedding\n",
    "            latest_embedding = author.embeddings[year]            \n",
    "\n",
    "    del authors    \n",
    "    print('Finish collection for group {}'.format(group_name))\n",
    "    print()"
   ]
  },
  {
   "cell_type": "code",
   "execution_count": null,
   "metadata": {},
   "outputs": [],
   "source": [
    "pickle.dump(name_id, open('author/name_id.pkl', 'wb'), -1)\n",
    "pickle.dump(id_name, open('author/id_name.pkl', 'wb'), -1)\n",
    "pickle.dump(a_latest_cite_dists, open('cite_input/a_latest_cite_dists_1999.pkl', 'wb'), -1)\n",
    "pickle.dump(a_latest_pub_dists, open('pub_input/a_latest_pub_dists_1999.pkl', 'wb'), -1)\n",
    "\n",
    "for year in range(2000, 2019):\n",
    "    \n",
    "    a_actives[year] = np.sort(a_actives[year])\n",
    "    a_positions[year] = dict((a,i) for i,a in enumerate(a_actives[year]))\n",
    "    ac_adjs[year] = np.array([[k,v] for k in a_actives[year] for v in np.sort(ac_adjs[year][k])]).T\n",
    "    a_embeddings[year] = np.array([a_embeddings[year][a_id] for a_id in a_actives[year]])\n",
    "    a_cite_edgellhs[year] = [a_cite_edgellhs[year][a_id] for a_id in a_actives[year]]\n",
    "    a_pub_edgellhs[year] = [a_pub_edgellhs[year][a_id] for a_id in a_actives[year]]\n",
    "    a_latest_embeddings[year] = np.array([a_latest_embeddings[year][a_id] for a_id in a_actives[year]])\n",
    "    \n",
    "    pickle.dump((a_actives[year], a_positions[year], ac_adjs[year], a_embeddings[year], a_latest_embeddings[year], a_cite_edgellhs[year]), open(f'cite_input/a_cite_inputs_{year}','wb'), -1)\n",
    "    pickle.dump((a_actives[year], a_positions[year], ac_adjs[year], a_embeddings[year], a_latest_embeddings[year], a_pub_edgellhs[year]), open(f'pub_input/a_pub_inputs_{year}','wb'), -1)\n",
    "    \n",
    "    print(f'Finish year {year} node size {len(a_actives[year])} edge size {len(ac_adjs[year][0])}')\n",
    "    \n",
    "pickle.dump(a_actives, open('author/a_actives.pkl','wb'),-1)\n",
    "pickle.dump(ac_adjs, open('author/active_ac_adjs.pkl','wb'),-1)"
   ]
  },
  {
   "cell_type": "markdown",
   "metadata": {},
   "source": [
    "## Validate"
   ]
  },
  {
   "cell_type": "code",
   "execution_count": null,
   "metadata": {},
   "outputs": [],
   "source": [
    "ca_adjs = pickle.load(open('content/active_ca_adjs.pkl','rb'))\n",
    "c_actives = pickle.load(open('content/c_actives.pkl','rb'))\n",
    "ac_adjs = pickle.load(open('author/active_ac_adjs.pkl','rb'))\n",
    "a_actives = pickle.load(open('author/a_actives.pkl','rb'))"
   ]
  },
  {
   "cell_type": "code",
   "execution_count": null,
   "metadata": {},
   "outputs": [],
   "source": [
    "c_set0, c_set1, c_set2 = set(), set(), set()\n",
    "a_set0, a_set1, a_set2 = set(), set(), set()\n",
    "\n",
    "for year in range(2000, 2019):\n",
    "    \n",
    "    for c in c_actives[year]:\n",
    "        c_set0.add(c)\n",
    "    for c in ca_adjs[year][0]:\n",
    "        c_set1.add(c)\n",
    "    for c in ac_adjs[year][1]:\n",
    "        c_set2.add(c)\n",
    "        \n",
    "    for a in a_actives[year]:\n",
    "        a_set0.add(a)\n",
    "    for a in ca_adjs[year][1]:\n",
    "        a_set1.add(a)\n",
    "    for a in ac_adjs[year][0]:\n",
    "        a_set2.add(a)"
   ]
  },
  {
   "cell_type": "code",
   "execution_count": null,
   "metadata": {},
   "outputs": [],
   "source": [
    "print(c_set0==c_set1==c_set2, a_set0==a_set1==a_set2)"
   ]
  }
 ],
 "metadata": {
  "kernelspec": {
   "display_name": "Python 3",
   "language": "python",
   "name": "python3"
  },
  "language_info": {
   "codemirror_mode": {
    "name": "ipython",
    "version": 3
   },
   "file_extension": ".py",
   "mimetype": "text/x-python",
   "name": "python",
   "nbconvert_exporter": "python",
   "pygments_lexer": "ipython3",
   "version": "3.6.8"
  }
 },
 "nbformat": 4,
 "nbformat_minor": 2
}
