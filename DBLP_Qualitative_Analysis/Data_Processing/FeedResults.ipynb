{
 "cells": [
  {
   "cell_type": "code",
   "execution_count": null,
   "metadata": {},
   "outputs": [],
   "source": [
    "import pickle\n",
    "import numpy as np\n",
    "from collections import defaultdict\n",
    "\n",
    "from Author import *\n",
    "from Content import *"
   ]
  },
  {
   "cell_type": "markdown",
   "metadata": {},
   "source": [
    "## Feed Results to Contents"
   ]
  },
  {
   "cell_type": "code",
   "execution_count": null,
   "metadata": {},
   "outputs": [],
   "source": [
    "start_year, end_year, strategy = 2000, 2019, 'pub'\n",
    "c_actives = pickle.load(open('content/c_actives.pkl','rb'))\n",
    "active_ca_adjs = pickle.load(open('content/active_ca_adjs.pkl','rb'))"
   ]
  },
  {
   "cell_type": "code",
   "execution_count": null,
   "metadata": {},
   "outputs": [],
   "source": [
    "c_dists, ca_atts = {}, defaultdict(dict)\n",
    "\n",
    "for year in range(start_year, end_year):\n",
    "    c_dist, ca_att = pickle.load(open(f'{strategy}_result/{year}_content_results.pkl','rb'))    \n",
    "    for c, dist in zip(c_actives[year], c_dist):\n",
    "        c_dists[c] = dist        \n",
    "    for (left, right), att in zip(active_ca_adjs[year].T, ca_att):\n",
    "        ca_atts[left][right] = att"
   ]
  },
  {
   "cell_type": "code",
   "execution_count": null,
   "metadata": {},
   "outputs": [],
   "source": [
    "update_count = 0\n",
    "author_content_year_utility = defaultdict(dict)\n",
    "\n",
    "for year in range(start_year, end_year):\n",
    "    contents = pickle.load(open(f'content/contents_{year}.pkl','rb'))\n",
    "    for content in contents.values():\n",
    "        \n",
    "        if len(content.outcitations)>0:\n",
    "            update_count += 1\n",
    "            \n",
    "            if strategy=='pub':\n",
    "                content.update_pub_stradis(c_dists[content.id])\n",
    "                content.update_pub_atts(ca_atts[content.id])\n",
    "            elif strategy=='cite':\n",
    "                content.update_cite_stradis(c_dists[content.id])\n",
    "                content.update_cite_atts(ca_atts[content.id])\n",
    "            \n",
    "            author_year_utility = content.split_utility(strategy)\n",
    "            for author,_,_ in content.authors:\n",
    "                author_content_year_utility[author][content.id] = author_year_utility[author]\n",
    "                \n",
    "    pickle.dump(contents, open('content/contents_{}.pkl'.format(year), 'wb'), -1)\n",
    "    print(f'Done for year {year}')\n",
    "\n",
    "pickle.dump(author_content_year_utility, open(f'author/author_content_year_utility_{strategy}.pkl','wb'), -1)\n",
    "print(update_count, len(c_dists), len(ca_atts)) #2785422"
   ]
  },
  {
   "cell_type": "markdown",
   "metadata": {},
   "source": [
    "## Feed Results to Authors"
   ]
  },
  {
   "cell_type": "code",
   "execution_count": null,
   "metadata": {},
   "outputs": [],
   "source": [
    "group_names = [2000, 2013, 201700, 201701, 201800, 201801, \n",
    "               201900, 201901, 201902, 201903, 201904, 201905, \n",
    "               201906, 201907, 201908, 201909, 201910, 201911, \n",
    "               201912, 201913, 201914]"
   ]
  },
  {
   "cell_type": "code",
   "execution_count": null,
   "metadata": {},
   "outputs": [],
   "source": [
    "start_year, end_year = 2000, 2019\n",
    "a_actives = pickle.load(open('author/a_actives.pkl','rb'))\n",
    "active_ac_adjs = pickle.load(open('author/active_ac_adjs.pkl','rb'))"
   ]
  },
  {
   "cell_type": "code",
   "execution_count": null,
   "metadata": {},
   "outputs": [],
   "source": [
    "a_dists = {'pub':defaultdict(dict), 'cite':defaultdict(dict)}\n",
    "ac_atts = {'pub':defaultdict(list), 'cite':defaultdict(list)}\n",
    "aa_alphas = {'pub':defaultdict(dict), 'cite':defaultdict(dict)}\n",
    "author_content_year_utility = {}\n",
    "\n",
    "for strategy in ['cite', 'pub']:\n",
    "    for year in range(start_year, end_year):    \n",
    "        a_dist, ac_att, aa_alpha = pickle.load(open(f'{strategy}_result/{year}_author_results.pkl','rb'))    \n",
    "        for a, dist, alpha in zip(a_actives[year], a_dist, aa_alpha):\n",
    "            a_dists[strategy][a][year] = dist\n",
    "            aa_alphas[strategy][a][year] = alpha\n",
    "        for (left, right), att in zip(active_ac_adjs[year].T, ac_att):\n",
    "            ac_atts[strategy][left].append((year, right, att))\n",
    "    author_content_year_utility[strategy] = pickle.load(open(f'author/author_content_year_utility_{strategy}.pkl','rb'))"
   ]
  },
  {
   "cell_type": "code",
   "execution_count": null,
   "metadata": {
    "scrolled": true
   },
   "outputs": [],
   "source": [
    "update_count = 0\n",
    "author_cite_histories, author_pub_histories = {}, {}\n",
    "\n",
    "for group_name in group_names:\n",
    "    \n",
    "    print('Reading group {}'.format(group_name))\n",
    "    authors = pickle.load(open('author/authors_{}.pkl'.format(group_name),'rb'))\n",
    "    \n",
    "    print('Start for group {}'.format(group_name))\n",
    "    for author in authors.values():\n",
    "        \n",
    "        if len(author.outcitations)>0 and max(author.outcitations)>=2000:\n",
    "            update_count += 1\n",
    "                \n",
    "            author.update_pub_stradiss(a_dists['pub'][author.id])\n",
    "            author.update_pub_straranks()\n",
    "            author.update_pub_alphas(aa_alphas['pub'][author.id])\n",
    "            author.update_pub_atts(ac_atts['pub'][author.id])\n",
    "            author.update_pub_utilities(author_content_year_utility['pub'][author.id])\n",
    "            author.update_pub_util_histories()   \n",
    "            author_pub_histories[author.id] = author.pub_util_histories   \n",
    "                \n",
    "            author.update_cite_stradiss(a_dists['cite'][author.id])\n",
    "            author.update_cite_straranks()\n",
    "            author.update_cite_alphas(aa_alphas['cite'][author.id])\n",
    "            author.update_cite_atts(ac_atts['cite'][author.id])\n",
    "            author.update_cite_utilities(author_content_year_utility['cite'][author.id])\n",
    "            author.update_cite_util_histories()\n",
    "            author_cite_histories[author.id] = author.cite_util_histories            \n",
    "                     \n",
    "    pickle.dump(authors, open('author/authors_{}.pkl'.format(group_name), 'wb'), -1)\n",
    "    del authors\n",
    "    print(f'Done for group {group_name}\\n')\n",
    "\n",
    "pickle.dump(author_cite_histories, open('author/author_cite_histories.pkl','wb'), -1)\n",
    "pickle.dump(author_pub_histories, open('author/author_pub_histories.pkl','wb'), -1)\n",
    "print(update_count, len(a_dists['cite']), len(ac_atts['cite']), len(aa_alphas['cite']), len(a_dists['pub']), len(ac_atts['pub']), len(aa_alphas['pub']))"
   ]
  },
  {
   "cell_type": "code",
   "execution_count": null,
   "metadata": {},
   "outputs": [],
   "source": []
  }
 ],
 "metadata": {
  "kernelspec": {
   "display_name": "Python 3",
   "language": "python",
   "name": "python3"
  },
  "language_info": {
   "codemirror_mode": {
    "name": "ipython",
    "version": 3
   },
   "file_extension": ".py",
   "mimetype": "text/x-python",
   "name": "python",
   "nbconvert_exporter": "python",
   "pygments_lexer": "ipython3",
   "version": "3.6.8"
  }
 },
 "nbformat": 4,
 "nbformat_minor": 2
}
