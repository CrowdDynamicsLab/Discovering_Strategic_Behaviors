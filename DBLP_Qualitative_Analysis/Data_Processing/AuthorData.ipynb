{
 "cells": [
  {
   "cell_type": "code",
   "execution_count": null,
   "metadata": {},
   "outputs": [],
   "source": [
    "import pickle\n",
    "import numpy as np\n",
    "from collections import defaultdict\n",
    "\n",
    "from Author import *\n",
    "from Content import *"
   ]
  },
  {
   "cell_type": "code",
   "execution_count": null,
   "metadata": {},
   "outputs": [],
   "source": [
    "group_names = [2000, 2013, 201700, 201701, 201800, 201801, \n",
    "               201900, 201901, 201902, 201903, 201904, 201905, \n",
    "               201906, 201907, 201908, 201909, 201910, 201911, \n",
    "               201912, 201913, 201914]"
   ]
  },
  {
   "cell_type": "markdown",
   "metadata": {},
   "source": [
    "## Devide & Create Authors"
   ]
  },
  {
   "cell_type": "code",
   "execution_count": null,
   "metadata": {},
   "outputs": [],
   "source": [
    "start_year, end_year = 1980, 2019\n",
    "content_authors = pickle.load(open('content/content_authors.pkl','rb'))\n",
    "content_year = pickle.load(open('content/content_year.pkl','rb'))\n",
    "author_last_active = defaultdict(int)\n",
    "\n",
    "for year in range(start_year, end_year):\n",
    "    \n",
    "    contents = pickle.load(open('content/contents_{}.pkl'.format(year),'rb'))    \n",
    "    for content in contents.values():\n",
    "        \n",
    "        incitation_years = sorted(content.incitations)\n",
    "        last_active = max(incitation_years[-1], year) if len(incitation_years)>0 else year\n",
    "        \n",
    "        for author_id, _, _ in content.authors:            \n",
    "            if author_last_active[author_id] < last_active:\n",
    "                author_last_active[author_id] = last_active\n",
    "                \n",
    "active_authors = defaultdict(list)\n",
    "for author, year in author_last_active.items():\n",
    "    active_authors[year].append(author)\n",
    "\n",
    "pickle.dump(active_authors, open('author/active_authors.pkl', 'wb'), -1)"
   ]
  },
  {
   "cell_type": "code",
   "execution_count": null,
   "metadata": {},
   "outputs": [],
   "source": [
    "author_groups = defaultdict(set)\n",
    "for year in range(1980, 2000):\n",
    "    for author in active_authors[year]:\n",
    "        author_groups[2000].add(author)\n",
    "\n",
    "for year in range(2000, 2013):\n",
    "    for author in active_authors[year]:\n",
    "        author_groups[2013].add(author)\n",
    "        \n",
    "for year in range(2013, 2017):\n",
    "    for index, author in enumerate(active_authors[year]):\n",
    "        author_groups[201700+index%2].add(author)\n",
    "        \n",
    "for year in range(2017, 2018):\n",
    "    for index, author in enumerate(active_authors[year]):\n",
    "        author_groups[201800+index%2].add(author)\n",
    "        \n",
    "for year in range(2018, 2019):\n",
    "    for index, author in enumerate(active_authors[year]):\n",
    "        author_groups[201900+index%15].add(author)\n",
    "        \n",
    "pickle.dump(author_groups, open('author/author_groups.pkl', 'wb'), -1)\n",
    "print(sum([len(authors) for authors in active_authors.values()]), sum([len(authors) for authors in author_groups.values()]))"
   ]
  },
  {
   "cell_type": "code",
   "execution_count": null,
   "metadata": {},
   "outputs": [],
   "source": [
    "start_year, end_year = 1980, 2019\n",
    "content_authors = pickle.load(open('content/content_authors.pkl','rb'))\n",
    "content_year = pickle.load(open('content/content_year.pkl','rb'))\n",
    "author_groups = pickle.load(open('author/author_groups.pkl','rb'))\n",
    "\n",
    "for group_name, group_authors in author_groups.items():\n",
    "    authors = {}\n",
    "    \n",
    "    for year in range(start_year, end_year):\n",
    "        contents = pickle.load(open('content/contents_{}.pkl'.format(year),'rb'))        \n",
    "        for content in contents.values():           \n",
    "            \n",
    "            for author_id, author_name, author_org in content.authors:\n",
    "                if author_id in group_authors:\n",
    "                    \n",
    "                    if author_id not in authors:\n",
    "                        data = {'id':author_id, 'name':author_name, 'org':author_org}\n",
    "                        authors[author_id] = Author(data)\n",
    "                    \n",
    "                    authors[author_id].update_contents(year, content.id, content.field, content.venue)\n",
    "                    \n",
    "                    outcitations = [(year, content_year[in_content], in_author) for in_content in content.outcitations for in_author in content_authors[in_content]]\n",
    "                    authors[author_id].update_outcitations(outcitations)\n",
    "                    \n",
    "                    incitations = [(out_year, year, out_author) for out_year, out_contents in content.incitations.items() for out_content in out_contents for out_author in content_authors[out_content]]\n",
    "                    authors[author_id].update_incitations(incitations)\n",
    "                    \n",
    "    for author in authors.values():\n",
    "        author.update_fields()\n",
    "        \n",
    "    pickle.dump(authors, open('author/authors_{}.pkl'.format(group_name), 'wb'), -1)\n",
    "    print(f'Done for group {group_name}: {len(group_authors)}=={len(authors)}')\n",
    "    del authors"
   ]
  },
  {
   "cell_type": "code",
   "execution_count": null,
   "metadata": {},
   "outputs": [],
   "source": [
    "author_venues = {}\n",
    "author_contents = defaultdict(dict)\n",
    "\n",
    "for group_name in group_names:\n",
    "    authors = pickle.load(open('author/authors_{}.pkl'.format(group_name),'rb'))\n",
    "    for author in authors.values():\n",
    "        author_venues[author.id] = author.venues\n",
    "        for year, contents in author.contents.items():\n",
    "            author_contents[author.id][year] = contents\n",
    "        \n",
    "    print(f'Done for group {group_name}')\n",
    "    \n",
    "pickle.dump(author_venues, open('author/author_venues.pkl','wb'), -1)\n",
    "pickle.dump(author_contents, open('author/author_contents.pkl','wb'), -1)"
   ]
  },
  {
   "cell_type": "markdown",
   "metadata": {},
   "source": [
    "## A-A & A-C & A-U Graph"
   ]
  },
  {
   "cell_type": "code",
   "execution_count": null,
   "metadata": {},
   "outputs": [],
   "source": [
    "aa_adjs = defaultdict(list)\n",
    "ac_adjs = {}\n",
    "au_adjs = {}\n",
    "\n",
    "for group_name in group_names:\n",
    "    authors = pickle.load(open('author/authors_{}.pkl'.format(group_name),'rb'))\n",
    "    for author_id, author in authors.items():\n",
    "        for year, contents in author.contents.items():\n",
    "            ac_adjs[author_id+str(year)] = [content+str(year) for content in contents]\n",
    "        for year, venues in author.venues.items():\n",
    "            au_adjs[author_id+str(year)] = [venue+str(year) for venue in venues]\n",
    "        for outyear, outcitations in author.outcitations.items():\n",
    "            for inyear, inauthor in outcitations:\n",
    "                aa_adjs[author_id+str(outyear)].append(inauthor+str(inyear))\n",
    "    del authors\n",
    "    print('done for group {}'.format(group_name))\n",
    "    \n",
    "pickle.dump(aa_adjs, open('author/aa_adjs.pkl', 'wb'), -1)\n",
    "pickle.dump(ac_adjs, open('author/ac_adjs.pkl', 'wb'), -1)\n",
    "pickle.dump(au_adjs, open('author/au_adjs.pkl', 'wb'), -1)"
   ]
  },
  {
   "cell_type": "code",
   "execution_count": null,
   "metadata": {},
   "outputs": [],
   "source": [
    "a_embs = pickle.load(open('author/a_embs.pkl','rb'))\n",
    "\n",
    "update_counts = 0\n",
    "for group_name in group_names:\n",
    "    \n",
    "    print('Reading group {}'.format(group_name))\n",
    "    authors = pickle.load(open('author/authors_{}.pkl'.format(group_name),'rb'))\n",
    "    \n",
    "    print('Embedding-update start for group {}'.format(group_name))\n",
    "    for author_id, author in authors.items():        \n",
    "        for year in author.contents.keys():\n",
    "            author.update_embeddings(year, a_embs[author_id+str(year)])\n",
    "            update_counts += 1\n",
    "            \n",
    "    print('Writing group {}'.format(group_name))\n",
    "    pickle.dump(authors, open('author/authors_{}.pkl'.format(group_name), 'wb'), protocol=pickle.HIGHEST_PROTOCOL)\n",
    "    del authors\n",
    "    \n",
    "    print('Embedding-update done for group {}'.format(group_name))\n",
    "    print()\n",
    "    \n",
    "print('Count check: {} vs {}'.format(len(a_embs), update_counts))"
   ]
  },
  {
   "cell_type": "code",
   "execution_count": null,
   "metadata": {},
   "outputs": [],
   "source": []
  }
 ],
 "metadata": {
  "kernelspec": {
   "display_name": "Python 3",
   "language": "python",
   "name": "python3"
  },
  "language_info": {
   "codemirror_mode": {
    "name": "ipython",
    "version": 3
   },
   "file_extension": ".py",
   "mimetype": "text/x-python",
   "name": "python",
   "nbconvert_exporter": "python",
   "pygments_lexer": "ipython3",
   "version": "3.6.8"
  }
 },
 "nbformat": 4,
 "nbformat_minor": 2
}
